{
  "cells": [
    {
      "cell_type": "code",
      "execution_count": null,
      "metadata": {
        "id": "rkhgWjDOAZvm"
      },
      "outputs": [],
      "source": [
        "import numpy as np\n",
        "import matplotlib.pyplot as plt\n",
        "import tensorflow as tf\n",
        "from tensorflow.keras import layers, models, datasets"
      ]
    },
    {
      "cell_type": "code",
      "execution_count": null,
      "metadata": {
        "id": "RjPhshvoAbJu"
      },
      "outputs": [],
      "source": [
        "# Load and preprocess the MNIST dataset\n",
        "(train_images, train_labels), (test_images, test_labels) = datasets.mnist.load_data()\n",
        "train_images = train_images.reshape((60000, 28, 28, 1)).astype('float32') / 255\n",
        "test_images = test_images.reshape((10000, 28, 28, 1)).astype('float32') / 255\n",
        "train_labels = tf.keras.utils.to_categorical(train_labels, 10)\n",
        "test_labels = tf.keras.utils.to_categorical(test_labels, 10)\n"
      ]
    },
    {
      "cell_type": "code",
      "execution_count": null,
      "metadata": {
        "id": "4UnDc6gnAc4F"
      },
      "outputs": [],
      "source": [
        "# Define the CNN model architecture\n",
        "model = models.Sequential([\n",
        "    layers.Conv2D(32, (3, 3), activation='relu', input_shape=(28, 28, 1)),\n",
        "    layers.BatchNormalization(),\n",
        "    layers.Conv2D(64, (3, 3), activation='relu'),\n",
        "    layers.BatchNormalization(),\n",
        "    layers.MaxPooling2D((2, 2)),\n",
        "    layers.Dropout(0.25),\n",
        "    layers.Conv2D(128, (3, 3), activation='relu'),\n",
        "    layers.BatchNormalization(),\n",
        "    layers.MaxPooling2D((2, 2)),\n",
        "    layers.Dropout(0.25),\n",
        "    layers.Flatten(),\n",
        "    layers.Dense(256, activation='relu'),\n",
        "    layers.BatchNormalization(),\n",
        "    layers.Dropout(0.5),\n",
        "    layers.Dense(10, activation='softmax')\n",
        "])\n"
      ]
    },
    {
      "cell_type": "code",
      "execution_count": null,
      "metadata": {
        "colab": {
          "base_uri": "https://localhost:8080/"
        },
        "id": "SzXRA2e8Aej3",
        "outputId": "4563e57f-d5af-47a1-a52c-c628b9ba911b"
      },
      "outputs": [
        {
          "name": "stdout",
          "output_type": "stream",
          "text": [
            "Model: \"sequential_1\"\n",
            "_________________________________________________________________\n",
            " Layer (type)                Output Shape              Param #   \n",
            "=================================================================\n",
            " conv2d_3 (Conv2D)           (None, 26, 26, 32)        320       \n",
            "                                                                 \n",
            " batch_normalization (Batch  (None, 26, 26, 32)        128       \n",
            " Normalization)                                                  \n",
            "                                                                 \n",
            " conv2d_4 (Conv2D)           (None, 24, 24, 64)        18496     \n",
            "                                                                 \n",
            " batch_normalization_1 (Bat  (None, 24, 24, 64)        256       \n",
            " chNormalization)                                                \n",
            "                                                                 \n",
            " max_pooling2d_2 (MaxPoolin  (None, 12, 12, 64)        0         \n",
            " g2D)                                                            \n",
            "                                                                 \n",
            " dropout (Dropout)           (None, 12, 12, 64)        0         \n",
            "                                                                 \n",
            " conv2d_5 (Conv2D)           (None, 10, 10, 128)       73856     \n",
            "                                                                 \n",
            " batch_normalization_2 (Bat  (None, 10, 10, 128)       512       \n",
            " chNormalization)                                                \n",
            "                                                                 \n",
            " max_pooling2d_3 (MaxPoolin  (None, 5, 5, 128)         0         \n",
            " g2D)                                                            \n",
            "                                                                 \n",
            " dropout_1 (Dropout)         (None, 5, 5, 128)         0         \n",
            "                                                                 \n",
            " flatten_1 (Flatten)         (None, 3200)              0         \n",
            "                                                                 \n",
            " dense_2 (Dense)             (None, 256)               819456    \n",
            "                                                                 \n",
            " batch_normalization_3 (Bat  (None, 256)               1024      \n",
            " chNormalization)                                                \n",
            "                                                                 \n",
            " dropout_2 (Dropout)         (None, 256)               0         \n",
            "                                                                 \n",
            " dense_3 (Dense)             (None, 10)                2570      \n",
            "                                                                 \n",
            "=================================================================\n",
            "Total params: 916618 (3.50 MB)\n",
            "Trainable params: 915658 (3.49 MB)\n",
            "Non-trainable params: 960 (3.75 KB)\n",
            "_________________________________________________________________\n"
          ]
        }
      ],
      "source": [
        "\n",
        "# Compile the model\n",
        "model.compile(optimizer='adam',\n",
        "              loss='categorical_crossentropy',\n",
        "              metrics=['accuracy'])\n",
        "\n",
        "# Display the model summary\n",
        "model.summary()"
      ]
    },
    {
      "cell_type": "code",
      "execution_count": null,
      "metadata": {
        "colab": {
          "background_save": true,
          "base_uri": "https://localhost:8080/"
        },
        "id": "kimJCW1pAhUR",
        "outputId": "94e9092d-9e30-46fe-a1f1-b44a1f9303f7"
      },
      "outputs": [
        {
          "name": "stdout",
          "output_type": "stream",
          "text": [
            "Epoch 1/10\n",
            "750/750 [==============================] - 192s 252ms/step - loss: 0.1565 - accuracy: 0.9523 - val_loss: 0.0597 - val_accuracy: 0.9823\n",
            "Epoch 2/10\n",
            "750/750 [==============================] - 177s 236ms/step - loss: 0.0635 - accuracy: 0.9806 - val_loss: 0.0398 - val_accuracy: 0.9885\n",
            "Epoch 3/10\n",
            "750/750 [==============================] - 177s 236ms/step - loss: 0.0489 - accuracy: 0.9852 - val_loss: 0.0382 - val_accuracy: 0.9880\n",
            "Epoch 4/10\n",
            "750/750 [==============================] - 177s 236ms/step - loss: 0.0425 - accuracy: 0.9864 - val_loss: 0.0347 - val_accuracy: 0.9905\n",
            "Epoch 5/10\n",
            "750/750 [==============================] - 177s 237ms/step - loss: 0.0376 - accuracy: 0.9877 - val_loss: 0.0329 - val_accuracy: 0.9902\n",
            "Epoch 6/10\n",
            "750/750 [==============================] - 177s 236ms/step - loss: 0.0328 - accuracy: 0.9894 - val_loss: 0.0345 - val_accuracy: 0.9899\n",
            "Epoch 7/10\n",
            "750/750 [==============================] - 173s 231ms/step - loss: 0.0280 - accuracy: 0.9904 - val_loss: 0.0289 - val_accuracy: 0.9919\n",
            "Epoch 8/10\n",
            "750/750 [==============================] - 173s 231ms/step - loss: 0.0267 - accuracy: 0.9913 - val_loss: 0.0252 - val_accuracy: 0.9927\n",
            "Epoch 9/10\n",
            "750/750 [==============================] - 174s 233ms/step - loss: 0.0225 - accuracy: 0.9927 - val_loss: 0.0289 - val_accuracy: 0.9917\n",
            "Epoch 10/10\n",
            "750/750 [==============================] - 171s 228ms/step - loss: 0.0224 - accuracy: 0.9925 - val_loss: 0.0265 - val_accuracy: 0.9927\n",
            "313/313 [==============================] - 8s 27ms/step - loss: 0.0212 - accuracy: 0.9939\n",
            "Test Accuracy: 0.9939000010490417\n"
          ]
        }
      ],
      "source": [
        "# Train the model\n",
        "history = model.fit(train_images, train_labels, epochs=10, batch_size=64, validation_split=0.2)\n",
        "\n",
        "# Evaluate the model on test set\n",
        "test_loss, test_acc = model.evaluate(test_images, test_labels)\n",
        "print(\"Test Accuracy:\", test_acc)"
      ]
    },
    {
      "cell_type": "code",
      "execution_count": null,
      "metadata": {
        "colab": {
          "background_save": true
        },
        "id": "0ifK3kNkAjg7",
        "outputId": "87562483-b4c7-485a-aac6-e6485a91c379"
      },
      "outputs": [
        {
          "name": "stdout",
          "output_type": "stream",
          "text": [
            "313/313 [==============================] - 8s 27ms/step - loss: 0.0212 - accuracy: 0.9939\n",
            "Test Accuracy: 0.9939000010490417\n"
          ]
        }
      ],
      "source": [
        "# Evaluate the model on test set\n",
        "test_loss, test_acc = model.evaluate(test_images, test_labels)\n",
        "print(\"Test Accuracy:\", test_acc)"
      ]
    },
    {
      "cell_type": "code",
      "execution_count": null,
      "metadata": {
        "colab": {
          "background_save": true
        },
        "id": "Ktr0ORaUAlHQ",
        "outputId": "eb4babd2-d9a2-4682-b38d-02231474b48b"
      },
      "outputs": [
        {
          "data": {
            "image/png": "[encoded data removed]",
            "text/plain": [
              "<Figure size 640x480 with 1 Axes>"
            ]
          },
          "metadata": {},
          "output_type": "display_data"
        }
      ],
      "source": [
        "# Plot training history\n",
        "plt.plot(history.history['accuracy'], label='accuracy')\n",
        "plt.plot(history.history['val_accuracy'], label='val_accuracy')\n",
        "plt.xlabel('Epoch')\n",
        "plt.ylabel('Accuracy')\n",
        "plt.legend()\n",
        "plt.show()"
      ]
    },
    {
      "cell_type": "code",
      "execution_count": 8,
      "metadata": {
        "colab": {
          "base_uri": "https://localhost:8080/"
        },
        "id": "NdVXG0Q6AsrP",
        "outputId": "8f4a4c8c-c548-4bc1-f182-abf7b516576e"
      },
      "outputs": [
        {
          "output_type": "stream",
          "name": "stderr",
          "text": [
            "/usr/local/lib/python3.10/dist-packages/keras/src/engine/training.py:3103: UserWarning: You are saving your model as an HDF5 file via `model.save()`. This file format is considered legacy. We recommend using instead the native Keras format, e.g. `model.save('my_model.keras')`.\n",
            "  saving_api.save_model(\n"
          ]
        }
      ],
      "source": [
        "import tensorflow as tf\n",
        "\n",
        "# Your model training and testing code...\n",
        "\n",
        "# Save the Keras model as .h5 file\n",
        "model.save('MNIST_model.h5')\n",
        "\n",
        "# Convert the saved model to TensorFlow Lite\n",
        "converter = tf.lite.TFLiteConverter.from_keras_model(model)\n",
        "tflite_model = converter.convert()\n",
        "\n",
        "# Save the TensorFlow Lite model\n",
        "with open('MNIST.tflite', 'wb') as f:\n",
        "    f.write(tflite_model)\n"
      ]
    },
    {
      "cell_type": "code",
      "source": [
        "mnist = tf.keras.datasets.mnist\n",
        "(x_train,y_train),(x_test,y_test)=mnist.load_data()"
      ],
      "metadata": {
        "id": "3KRGhbshKK5t"
      },
      "execution_count": 14,
      "outputs": []
    },
    {
      "cell_type": "code",
      "source": [
        "image_index = 446  # index range = 0 to 10000   27\n",
        "plt.imshow(x_test[image_index].reshape(28, 28),cmap='Greys')\n",
        "pred = model.predict(x_test[image_index].reshape(1, 28, 28, 1))\n",
        "print(\"predicted value = \",pred.argmax())"
      ],
      "metadata": {
        "colab": {
          "base_uri": "https://localhost:8080/",
          "height": 465
        },
        "id": "0ElLClB_JWTN",
        "outputId": "7b6b01db-9af3-41fa-b6dc-33e8f7fc528c"
      },
      "execution_count": 17,
      "outputs": [
        {
          "output_type": "stream",
          "name": "stdout",
          "text": [
            "1/1 [==============================] - 0s 19ms/step\n",
            "predicted value =  6\n"
          ]
        },
        {
          "output_type": "display_data",
          "data": {
            "text/plain": [
              "<Figure size 640x480 with 1 Axes>"
            ],
            "image/png": "[encoded data removed]"
          },
          "metadata": {}
        }
      ]
    },
    {
      "cell_type": "code",
      "source": [],
      "metadata": {
        "id": "GVWYIL0HJlLh"
      },
      "execution_count": null,
      "outputs": []
    }
  ],
  "metadata": {
    "colab": {
      "provenance": []
    },
    "kernelspec": {
      "display_name": "Python 3",
      "name": "python3"
    },
    "language_info": {
      "name": "python"
    }
  },
  "nbformat": 4,
  "nbformat_minor": 0
}